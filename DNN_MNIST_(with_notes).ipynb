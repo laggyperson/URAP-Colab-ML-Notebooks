{
  "nbformat": 4,
  "nbformat_minor": 0,
  "metadata": {
    "colab": {
      "provenance": [],
      "authorship_tag": "ABX9TyPkgXsutEVgagdLN/pwOOjU",
      "include_colab_link": true
    },
    "kernelspec": {
      "name": "python3",
      "display_name": "Python 3"
    },
    "language_info": {
      "name": "python"
    },
    "widgets": {
      "application/vnd.jupyter.widget-state+json": {
        "1fc2df3525834a77a93ebb2aad49eafe": {
          "model_module": "@jupyter-widgets/controls",
          "model_name": "HBoxModel",
          "model_module_version": "1.5.0",
          "state": {
            "_dom_classes": [],
            "_model_module": "@jupyter-widgets/controls",
            "_model_module_version": "1.5.0",
            "_model_name": "HBoxModel",
            "_view_count": null,
            "_view_module": "@jupyter-widgets/controls",
            "_view_module_version": "1.5.0",
            "_view_name": "HBoxView",
            "box_style": "",
            "children": [
              "IPY_MODEL_ab0116bbd16b4f8bbe9cbe98ff011e84",
              "IPY_MODEL_447c533598a348858cc27fbb27065ad6",
              "IPY_MODEL_f43f672642a944e5a1e07407e95d6d61"
            ],
            "layout": "IPY_MODEL_a1b4fd5f192d4bc1a31fa89708cb4a60"
          }
        },
        "ab0116bbd16b4f8bbe9cbe98ff011e84": {
          "model_module": "@jupyter-widgets/controls",
          "model_name": "HTMLModel",
          "model_module_version": "1.5.0",
          "state": {
            "_dom_classes": [],
            "_model_module": "@jupyter-widgets/controls",
            "_model_module_version": "1.5.0",
            "_model_name": "HTMLModel",
            "_view_count": null,
            "_view_module": "@jupyter-widgets/controls",
            "_view_module_version": "1.5.0",
            "_view_name": "HTMLView",
            "description": "",
            "description_tooltip": null,
            "layout": "IPY_MODEL_33d061e2b7f54abfa4630992701eae8b",
            "placeholder": "​",
            "style": "IPY_MODEL_05f14f6ee68f4dc199ebcfe67c97b475",
            "value": "Dl Completed...: 100%"
          }
        },
        "447c533598a348858cc27fbb27065ad6": {
          "model_module": "@jupyter-widgets/controls",
          "model_name": "FloatProgressModel",
          "model_module_version": "1.5.0",
          "state": {
            "_dom_classes": [],
            "_model_module": "@jupyter-widgets/controls",
            "_model_module_version": "1.5.0",
            "_model_name": "FloatProgressModel",
            "_view_count": null,
            "_view_module": "@jupyter-widgets/controls",
            "_view_module_version": "1.5.0",
            "_view_name": "ProgressView",
            "bar_style": "success",
            "description": "",
            "description_tooltip": null,
            "layout": "IPY_MODEL_ca568266bf8f41f59bcec124d9f490b7",
            "max": 5,
            "min": 0,
            "orientation": "horizontal",
            "style": "IPY_MODEL_8a740b3be23d442f82e1d8cc2def3801",
            "value": 5
          }
        },
        "f43f672642a944e5a1e07407e95d6d61": {
          "model_module": "@jupyter-widgets/controls",
          "model_name": "HTMLModel",
          "model_module_version": "1.5.0",
          "state": {
            "_dom_classes": [],
            "_model_module": "@jupyter-widgets/controls",
            "_model_module_version": "1.5.0",
            "_model_name": "HTMLModel",
            "_view_count": null,
            "_view_module": "@jupyter-widgets/controls",
            "_view_module_version": "1.5.0",
            "_view_name": "HTMLView",
            "description": "",
            "description_tooltip": null,
            "layout": "IPY_MODEL_9f53357164854049aaca68a5ea946a47",
            "placeholder": "​",
            "style": "IPY_MODEL_a842fd29ce2b4049a58bc3bdb27955c9",
            "value": " 5/5 [00:00&lt;00:00, 13.48 file/s]"
          }
        },
        "a1b4fd5f192d4bc1a31fa89708cb4a60": {
          "model_module": "@jupyter-widgets/base",
          "model_name": "LayoutModel",
          "model_module_version": "1.2.0",
          "state": {
            "_model_module": "@jupyter-widgets/base",
            "_model_module_version": "1.2.0",
            "_model_name": "LayoutModel",
            "_view_count": null,
            "_view_module": "@jupyter-widgets/base",
            "_view_module_version": "1.2.0",
            "_view_name": "LayoutView",
            "align_content": null,
            "align_items": null,
            "align_self": null,
            "border": null,
            "bottom": null,
            "display": null,
            "flex": null,
            "flex_flow": null,
            "grid_area": null,
            "grid_auto_columns": null,
            "grid_auto_flow": null,
            "grid_auto_rows": null,
            "grid_column": null,
            "grid_gap": null,
            "grid_row": null,
            "grid_template_areas": null,
            "grid_template_columns": null,
            "grid_template_rows": null,
            "height": null,
            "justify_content": null,
            "justify_items": null,
            "left": null,
            "margin": null,
            "max_height": null,
            "max_width": null,
            "min_height": null,
            "min_width": null,
            "object_fit": null,
            "object_position": null,
            "order": null,
            "overflow": null,
            "overflow_x": null,
            "overflow_y": null,
            "padding": null,
            "right": null,
            "top": null,
            "visibility": null,
            "width": null
          }
        },
        "33d061e2b7f54abfa4630992701eae8b": {
          "model_module": "@jupyter-widgets/base",
          "model_name": "LayoutModel",
          "model_module_version": "1.2.0",
          "state": {
            "_model_module": "@jupyter-widgets/base",
            "_model_module_version": "1.2.0",
            "_model_name": "LayoutModel",
            "_view_count": null,
            "_view_module": "@jupyter-widgets/base",
            "_view_module_version": "1.2.0",
            "_view_name": "LayoutView",
            "align_content": null,
            "align_items": null,
            "align_self": null,
            "border": null,
            "bottom": null,
            "display": null,
            "flex": null,
            "flex_flow": null,
            "grid_area": null,
            "grid_auto_columns": null,
            "grid_auto_flow": null,
            "grid_auto_rows": null,
            "grid_column": null,
            "grid_gap": null,
            "grid_row": null,
            "grid_template_areas": null,
            "grid_template_columns": null,
            "grid_template_rows": null,
            "height": null,
            "justify_content": null,
            "justify_items": null,
            "left": null,
            "margin": null,
            "max_height": null,
            "max_width": null,
            "min_height": null,
            "min_width": null,
            "object_fit": null,
            "object_position": null,
            "order": null,
            "overflow": null,
            "overflow_x": null,
            "overflow_y": null,
            "padding": null,
            "right": null,
            "top": null,
            "visibility": null,
            "width": null
          }
        },
        "05f14f6ee68f4dc199ebcfe67c97b475": {
          "model_module": "@jupyter-widgets/controls",
          "model_name": "DescriptionStyleModel",
          "model_module_version": "1.5.0",
          "state": {
            "_model_module": "@jupyter-widgets/controls",
            "_model_module_version": "1.5.0",
            "_model_name": "DescriptionStyleModel",
            "_view_count": null,
            "_view_module": "@jupyter-widgets/base",
            "_view_module_version": "1.2.0",
            "_view_name": "StyleView",
            "description_width": ""
          }
        },
        "ca568266bf8f41f59bcec124d9f490b7": {
          "model_module": "@jupyter-widgets/base",
          "model_name": "LayoutModel",
          "model_module_version": "1.2.0",
          "state": {
            "_model_module": "@jupyter-widgets/base",
            "_model_module_version": "1.2.0",
            "_model_name": "LayoutModel",
            "_view_count": null,
            "_view_module": "@jupyter-widgets/base",
            "_view_module_version": "1.2.0",
            "_view_name": "LayoutView",
            "align_content": null,
            "align_items": null,
            "align_self": null,
            "border": null,
            "bottom": null,
            "display": null,
            "flex": null,
            "flex_flow": null,
            "grid_area": null,
            "grid_auto_columns": null,
            "grid_auto_flow": null,
            "grid_auto_rows": null,
            "grid_column": null,
            "grid_gap": null,
            "grid_row": null,
            "grid_template_areas": null,
            "grid_template_columns": null,
            "grid_template_rows": null,
            "height": null,
            "justify_content": null,
            "justify_items": null,
            "left": null,
            "margin": null,
            "max_height": null,
            "max_width": null,
            "min_height": null,
            "min_width": null,
            "object_fit": null,
            "object_position": null,
            "order": null,
            "overflow": null,
            "overflow_x": null,
            "overflow_y": null,
            "padding": null,
            "right": null,
            "top": null,
            "visibility": null,
            "width": null
          }
        },
        "8a740b3be23d442f82e1d8cc2def3801": {
          "model_module": "@jupyter-widgets/controls",
          "model_name": "ProgressStyleModel",
          "model_module_version": "1.5.0",
          "state": {
            "_model_module": "@jupyter-widgets/controls",
            "_model_module_version": "1.5.0",
            "_model_name": "ProgressStyleModel",
            "_view_count": null,
            "_view_module": "@jupyter-widgets/base",
            "_view_module_version": "1.2.0",
            "_view_name": "StyleView",
            "bar_color": null,
            "description_width": ""
          }
        },
        "9f53357164854049aaca68a5ea946a47": {
          "model_module": "@jupyter-widgets/base",
          "model_name": "LayoutModel",
          "model_module_version": "1.2.0",
          "state": {
            "_model_module": "@jupyter-widgets/base",
            "_model_module_version": "1.2.0",
            "_model_name": "LayoutModel",
            "_view_count": null,
            "_view_module": "@jupyter-widgets/base",
            "_view_module_version": "1.2.0",
            "_view_name": "LayoutView",
            "align_content": null,
            "align_items": null,
            "align_self": null,
            "border": null,
            "bottom": null,
            "display": null,
            "flex": null,
            "flex_flow": null,
            "grid_area": null,
            "grid_auto_columns": null,
            "grid_auto_flow": null,
            "grid_auto_rows": null,
            "grid_column": null,
            "grid_gap": null,
            "grid_row": null,
            "grid_template_areas": null,
            "grid_template_columns": null,
            "grid_template_rows": null,
            "height": null,
            "justify_content": null,
            "justify_items": null,
            "left": null,
            "margin": null,
            "max_height": null,
            "max_width": null,
            "min_height": null,
            "min_width": null,
            "object_fit": null,
            "object_position": null,
            "order": null,
            "overflow": null,
            "overflow_x": null,
            "overflow_y": null,
            "padding": null,
            "right": null,
            "top": null,
            "visibility": null,
            "width": null
          }
        },
        "a842fd29ce2b4049a58bc3bdb27955c9": {
          "model_module": "@jupyter-widgets/controls",
          "model_name": "DescriptionStyleModel",
          "model_module_version": "1.5.0",
          "state": {
            "_model_module": "@jupyter-widgets/controls",
            "_model_module_version": "1.5.0",
            "_model_name": "DescriptionStyleModel",
            "_view_count": null,
            "_view_module": "@jupyter-widgets/base",
            "_view_module_version": "1.2.0",
            "_view_name": "StyleView",
            "description_width": ""
          }
        }
      }
    }
  },
  "cells": [
    {
      "cell_type": "markdown",
      "metadata": {
        "id": "view-in-github",
        "colab_type": "text"
      },
      "source": [
        "<a href=\"https://colab.research.google.com/github/laggyperson/URAP-Colab-ML-Notebooks/blob/main/DNN_MNIST_(with_notes).ipynb\" target=\"_parent\"><img src=\"https://colab.research.google.com/assets/colab-badge.svg\" alt=\"Open In Colab\"/></a>"
      ]
    },
    {
      "cell_type": "code",
      "execution_count": null,
      "metadata": {
        "id": "0rjzxiCT9sBp"
      },
      "outputs": [],
      "source": [
        "import tensorflow as tf\n",
        "import tensorflow_datasets as tfds\n",
        "import os # For saving the model\n",
        "import cv2 # For importing images\n",
        "import numpy as np\n",
        "import matplotlib as plt"
      ]
    },
    {
      "cell_type": "markdown",
      "source": [
        "Step 1: Creating Input Pipeline"
      ],
      "metadata": {
        "id": "uTDja50wDEzC"
      }
    },
    {
      "cell_type": "code",
      "source": [
        "# Normal import of data\n",
        "(ds_train, ds_test), ds_info = tfds.load(\n",
        "    'mnist',\n",
        "    split=['train', 'test'],\n",
        "    shuffle_files=True, # For larger datasets stored in multiple files, best to shuffle files\n",
        "    as_supervised=True, # Returns tuple instead of dictionary (img, label) vs {'image': image, 'label', label}\n",
        "    with_info=True, # Returns an info variable that describes the dataset\n",
        ")"
      ],
      "metadata": {
        "colab": {
          "base_uri": "https://localhost:8080/",
          "height": 104,
          "referenced_widgets": [
            "1fc2df3525834a77a93ebb2aad49eafe",
            "ab0116bbd16b4f8bbe9cbe98ff011e84",
            "447c533598a348858cc27fbb27065ad6",
            "f43f672642a944e5a1e07407e95d6d61",
            "a1b4fd5f192d4bc1a31fa89708cb4a60",
            "33d061e2b7f54abfa4630992701eae8b",
            "05f14f6ee68f4dc199ebcfe67c97b475",
            "ca568266bf8f41f59bcec124d9f490b7",
            "8a740b3be23d442f82e1d8cc2def3801",
            "9f53357164854049aaca68a5ea946a47",
            "a842fd29ce2b4049a58bc3bdb27955c9"
          ]
        },
        "id": "Ec5w_f-_1dJU",
        "outputId": "7fa9eb15-bcd8-426c-bf6a-5b2ae9925bcb"
      },
      "execution_count": null,
      "outputs": [
        {
          "output_type": "stream",
          "name": "stdout",
          "text": [
            "Downloading and preparing dataset 11.06 MiB (download: 11.06 MiB, generated: 21.00 MiB, total: 32.06 MiB) to /root/tensorflow_datasets/mnist/3.0.1...\n"
          ]
        },
        {
          "output_type": "display_data",
          "data": {
            "text/plain": [
              "Dl Completed...:   0%|          | 0/5 [00:00<?, ? file/s]"
            ],
            "application/vnd.jupyter.widget-view+json": {
              "version_major": 2,
              "version_minor": 0,
              "model_id": "1fc2df3525834a77a93ebb2aad49eafe"
            }
          },
          "metadata": {}
        },
        {
          "output_type": "stream",
          "name": "stdout",
          "text": [
            "Dataset mnist downloaded and prepared to /root/tensorflow_datasets/mnist/3.0.1. Subsequent calls will reuse this data.\n"
          ]
        }
      ]
    },
    {
      "cell_type": "code",
      "source": [
        "# ============================= ASIDE ===============================\n",
        "# Loading Data Performance tests\n",
        "#ds = tfds.load('mnist', split='train').batch(32).prefetch(buffer_size=64)\n",
        "# Displaying benchmark stats. Specify batch size for normalizing results\n",
        "#tfds.benchmark(ds)\n",
        "# Doing it again is faster because of auto-caching\n",
        "# Auto-caching only occurs if total dataset size is defined and < 250 MiB and (shuffle_files disabled or single shard read)\n",
        "#tfds.benchmark(ds, batch_size=32)\n",
        "# Manual Caching (for multiple iterations over dataset (want random order))\n",
        "#ds = ds.cache()\n",
        "# Good practice to shuffle batches (each epoch) and the buffer over the full dataset\n",
        "#ds = ds.shuffle(ds_info.splits['train'].num_examples)\n",
        "#ds = ds.batch(128)\n",
        "#ds = ds.prefetch(tf.data.experimental.AUTOTUNE)"
      ],
      "metadata": {
        "id": "9XvFnkNF-1kF"
      },
      "execution_count": null,
      "outputs": []
    },
    {
      "cell_type": "code",
      "source": [
        "# Building a training pipeline: Split the data into training and test sets as well as batches within each training set (for different epochs)\n",
        "# TFDS imgs type tf.uint8, but model expects tf.float32 --> Convert and normalize images\n",
        "def normalize_img(image, label):\n",
        "  return tf.cast(image, tf.float32) / 255., label\n",
        "\n",
        "ds_train = ds_train.map(normalize_img, num_parallel_calls=tf.data.AUTOTUNE)\n",
        "# Cache before shuffling\n",
        "ds_train = ds_train.cache()\n",
        "# Shuffle buffer over entire dataset for true randomness (buffer_size=1000 for datasets that can't fit in mem and if system allows it)\n",
        "ds_train = ds_train.shuffle(ds_info.splits['train'].num_examples)\n",
        "# Batch dataset after shuffling to get training data for each epoch\n",
        "ds_train = ds_train.batch(128)\n",
        "# Prefetch to end pipeline for performance\n",
        "ds_train = ds_train.prefetch(tf.data.AUTOTUNE)"
      ],
      "metadata": {
        "id": "xJY1c7cmz_rp"
      },
      "execution_count": null,
      "outputs": []
    },
    {
      "cell_type": "code",
      "source": [
        "# Evaluation Pipeline (testing dataset)\n",
        "# No shuffling needed\n",
        "# Normalize data like before\n",
        "ds_test = ds_test.map(\n",
        "    normalize_img, num_parallel_calls=tf.data.AUTOTUNE\n",
        ")\n",
        "# Batch the data\n",
        "ds_test = ds_test.batch(128)\n",
        "# Cache after batching because it is ok to repeat batches in each epoch\n",
        "ds_test = ds_test.cache()\n",
        "ds_test = ds_test.prefetch(tf.data.AUTOTUNE)"
      ],
      "metadata": {
        "id": "dRiFyJRpB3R3"
      },
      "execution_count": null,
      "outputs": []
    },
    {
      "cell_type": "markdown",
      "source": [
        "Step 2: Creating and Training Model"
      ],
      "metadata": {
        "id": "PFYani_EDOWv"
      }
    },
    {
      "cell_type": "code",
      "source": [
        "# Creating a Keras Model\n",
        "model = tf.keras.models.Sequential([\n",
        "  tf.keras.layers.Flatten(input_shape=(28,28)), # Specifies input\n",
        "  tf.keras.layers.Dense(128, activation='relu'), # Specifies a single layer with 128 nodes and a Regressive Linear activation function\n",
        "  tf.keras.layers.Dense(10) # Final output layer\n",
        "])\n",
        "\n",
        "# Compiling the model\n",
        "model.compile(\n",
        "    optimizer=tf.keras.optimizers.Adam(0.001),\n",
        "    loss=tf.keras.losses.SparseCategoricalCrossentropy(from_logits=True),\n",
        "    metrics=[tf.keras.metrics.SparseCategoricalAccuracy()]\n",
        ")\n",
        "\n",
        "# Training the model\n",
        "# model.fit(\n",
        "#     ds_train, # Dataset\n",
        "#     epochs=10, # Number of training cycles\n",
        "#     validation_data=ds_test\n",
        "# )"
      ],
      "metadata": {
        "id": "YWtPZGbnDRLI"
      },
      "execution_count": null,
      "outputs": []
    },
    {
      "cell_type": "code",
      "source": [
        "# Printing out model architecture\n",
        "model.summary()"
      ],
      "metadata": {
        "colab": {
          "base_uri": "https://localhost:8080/"
        },
        "id": "0W4rWAR2NPxe",
        "outputId": "69a8eea3-0955-49b0-d0fb-27b0dda3b370"
      },
      "execution_count": null,
      "outputs": [
        {
          "output_type": "stream",
          "name": "stdout",
          "text": [
            "Model: \"sequential\"\n",
            "_________________________________________________________________\n",
            " Layer (type)                Output Shape              Param #   \n",
            "=================================================================\n",
            " flatten (Flatten)           (None, 784)               0         \n",
            "                                                                 \n",
            " dense (Dense)               (None, 128)               100480    \n",
            "                                                                 \n",
            " dense_1 (Dense)             (None, 10)                1290      \n",
            "                                                                 \n",
            "=================================================================\n",
            "Total params: 101,770\n",
            "Trainable params: 101,770\n",
            "Non-trainable params: 0\n",
            "_________________________________________________________________\n"
          ]
        }
      ]
    },
    {
      "cell_type": "markdown",
      "source": [
        "3. Saving and Using the Model"
      ],
      "metadata": {
        "id": "mo513IPu18vl"
      }
    },
    {
      "cell_type": "code",
      "source": [
        "# Saving the model with checkpoints\n",
        "checkpoint_path = \"test1/mnist_model_cp.ckpt\"\n",
        "checkpoint_dir = os.path.dirname(checkpoint_path)\n",
        "\n",
        "# Creating a callback that saves the model weights\n",
        "cp_callback = tf.keras.callbacks.ModelCheckpoint(filepath=checkpoint_path,\n",
        "                                                 save_weights_only=True,\n",
        "                                                 verbose=1,\n",
        "                                                 save_freq=5*batch_size # Specifies freqeuncy\n",
        "                                                 )\n",
        "# Fitting the model with this callback\n",
        "model.fit(ds_train,\n",
        "          epochs=10,\n",
        "          validation_data=ds_test,\n",
        "          callbacks=[cp_callback])"
      ],
      "metadata": {
        "colab": {
          "base_uri": "https://localhost:8080/"
        },
        "id": "c3SkJ6nOO5lT",
        "outputId": "e5c7d3b7-1fc4-49d8-b3b8-ce731f3e339b"
      },
      "execution_count": null,
      "outputs": [
        {
          "output_type": "stream",
          "name": "stdout",
          "text": [
            "Epoch 1/10\n",
            "461/469 [============================>.] - ETA: 0s - loss: 0.3672 - sparse_categorical_accuracy: 0.8977\n",
            "Epoch 1: saving model to test1/mnist_model_cp.ckpt\n",
            "469/469 [==============================] - 11s 11ms/step - loss: 0.3648 - sparse_categorical_accuracy: 0.8983 - val_loss: 0.2011 - val_sparse_categorical_accuracy: 0.9429\n",
            "Epoch 2/10\n",
            "466/469 [============================>.] - ETA: 0s - loss: 0.1682 - sparse_categorical_accuracy: 0.9525\n",
            "Epoch 2: saving model to test1/mnist_model_cp.ckpt\n",
            "469/469 [==============================] - 2s 5ms/step - loss: 0.1680 - sparse_categorical_accuracy: 0.9525 - val_loss: 0.1415 - val_sparse_categorical_accuracy: 0.9584\n",
            "Epoch 3/10\n",
            "461/469 [============================>.] - ETA: 0s - loss: 0.1197 - sparse_categorical_accuracy: 0.9663\n",
            "Epoch 3: saving model to test1/mnist_model_cp.ckpt\n",
            "469/469 [==============================] - 2s 5ms/step - loss: 0.1196 - sparse_categorical_accuracy: 0.9664 - val_loss: 0.1085 - val_sparse_categorical_accuracy: 0.9677\n",
            "Epoch 4/10\n",
            "465/469 [============================>.] - ETA: 0s - loss: 0.0924 - sparse_categorical_accuracy: 0.9735\n",
            "Epoch 4: saving model to test1/mnist_model_cp.ckpt\n",
            "469/469 [==============================] - 2s 5ms/step - loss: 0.0921 - sparse_categorical_accuracy: 0.9735 - val_loss: 0.0943 - val_sparse_categorical_accuracy: 0.9710\n",
            "Epoch 5/10\n",
            "462/469 [============================>.] - ETA: 0s - loss: 0.0750 - sparse_categorical_accuracy: 0.9785\n",
            "Epoch 5: saving model to test1/mnist_model_cp.ckpt\n",
            "469/469 [==============================] - 2s 5ms/step - loss: 0.0747 - sparse_categorical_accuracy: 0.9786 - val_loss: 0.0904 - val_sparse_categorical_accuracy: 0.9729\n",
            "Epoch 6/10\n",
            "465/469 [============================>.] - ETA: 0s - loss: 0.0620 - sparse_categorical_accuracy: 0.9823\n",
            "Epoch 6: saving model to test1/mnist_model_cp.ckpt\n",
            "469/469 [==============================] - 3s 6ms/step - loss: 0.0621 - sparse_categorical_accuracy: 0.9822 - val_loss: 0.0829 - val_sparse_categorical_accuracy: 0.9748\n",
            "Epoch 7/10\n",
            "458/469 [============================>.] - ETA: 0s - loss: 0.0521 - sparse_categorical_accuracy: 0.9849\n",
            "Epoch 7: saving model to test1/mnist_model_cp.ckpt\n",
            "469/469 [==============================] - 2s 5ms/step - loss: 0.0520 - sparse_categorical_accuracy: 0.9849 - val_loss: 0.0845 - val_sparse_categorical_accuracy: 0.9733\n",
            "Epoch 8/10\n",
            "466/469 [============================>.] - ETA: 0s - loss: 0.0436 - sparse_categorical_accuracy: 0.9877\n",
            "Epoch 8: saving model to test1/mnist_model_cp.ckpt\n",
            "469/469 [==============================] - 2s 5ms/step - loss: 0.0437 - sparse_categorical_accuracy: 0.9876 - val_loss: 0.0770 - val_sparse_categorical_accuracy: 0.9762\n",
            "Epoch 9/10\n",
            "464/469 [============================>.] - ETA: 0s - loss: 0.0372 - sparse_categorical_accuracy: 0.9895\n",
            "Epoch 9: saving model to test1/mnist_model_cp.ckpt\n",
            "469/469 [==============================] - 2s 4ms/step - loss: 0.0371 - sparse_categorical_accuracy: 0.9895 - val_loss: 0.0782 - val_sparse_categorical_accuracy: 0.9769\n",
            "Epoch 10/10\n",
            "458/469 [============================>.] - ETA: 0s - loss: 0.0312 - sparse_categorical_accuracy: 0.9912\n",
            "Epoch 10: saving model to test1/mnist_model_cp.ckpt\n",
            "469/469 [==============================] - 3s 7ms/step - loss: 0.0311 - sparse_categorical_accuracy: 0.9912 - val_loss: 0.0771 - val_sparse_categorical_accuracy: 0.9770\n"
          ]
        },
        {
          "output_type": "execute_result",
          "data": {
            "text/plain": [
              "<keras.callbacks.History at 0x7f5efbed9de0>"
            ]
          },
          "metadata": {},
          "execution_count": 10
        }
      ]
    },
    {
      "cell_type": "code",
      "source": [
        "# Reloading the model from saved weights (need to have same architecture)\n",
        "model_new = tf.keras.models.Sequential([\n",
        "  tf.keras.layers.Flatten(input_shape=(28,28)), # Specifies input\n",
        "  tf.keras.layers.Dense(128, activation='relu'), # Specifies a single layer with 128 nodes and a Regressive Linear activation function\n",
        "  tf.keras.layers.Dense(10) # Final output layer\n",
        "])\n",
        "\n",
        "# Compiling the model\n",
        "model_new.compile(\n",
        "    optimizer=tf.keras.optimizers.Adam(0.001),\n",
        "    loss=tf.keras.losses.SparseCategoricalCrossentropy(from_logits=True),\n",
        "    metrics=[tf.keras.metrics.SparseCategoricalAccuracy()]\n",
        ")\n",
        "\n",
        "# Untrained model test\n",
        "loss, acc = model_new.evaluate(ds_test, verbose=2)\n",
        "print(\"Untrained model, accuracy: {:5.2f}%\".format(100 * acc))"
      ],
      "metadata": {
        "colab": {
          "base_uri": "https://localhost:8080/"
        },
        "id": "yompewej2AKg",
        "outputId": "17f85a8f-262f-479e-e6bc-513b520d497a"
      },
      "execution_count": null,
      "outputs": [
        {
          "output_type": "stream",
          "name": "stdout",
          "text": [
            "79/79 - 1s - loss: 2.3930 - sparse_categorical_accuracy: 0.0770 - 1s/epoch - 16ms/step\n",
            "Untrained model, accuracy:  7.70%\n"
          ]
        }
      ]
    },
    {
      "cell_type": "code",
      "source": [
        "# Reloading the model\n",
        "model_new.load_weights(checkpoint_path)\n",
        "\n",
        "# Re-evaluation\n",
        "loss, acc = model.evaluate(ds_test, verbose=2)\n",
        "print(\"Restored model, accuracy: {:5.2f}%\".format(100 * acc))"
      ],
      "metadata": {
        "colab": {
          "base_uri": "https://localhost:8080/"
        },
        "id": "e3L6svRa2veT",
        "outputId": "7862b3ba-18ff-4d89-8d1b-8414a9f68222"
      },
      "execution_count": null,
      "outputs": [
        {
          "output_type": "stream",
          "name": "stdout",
          "text": [
            "79/79 - 0s - loss: 0.0771 - sparse_categorical_accuracy: 0.9770 - 206ms/epoch - 3ms/step\n",
            "Restored model, accuracy: 97.70%\n"
          ]
        }
      ]
    },
    {
      "cell_type": "code",
      "source": [
        "# Manually saving weights\n",
        "model.save_weights('./checkpoints/my_checkpoint')"
      ],
      "metadata": {
        "id": "wIU67m9S3Mrg"
      },
      "execution_count": null,
      "outputs": []
    },
    {
      "cell_type": "code",
      "source": [
        "# Saving the entire model as SavedModel type\n",
        "!mkdir -p saved_model\n",
        "model.save('./models/model1')"
      ],
      "metadata": {
        "colab": {
          "base_uri": "https://localhost:8080/"
        },
        "id": "5Sb2lAKb4Fy3",
        "outputId": "0b4be9be-901a-4b26-9810-773a1068366b"
      },
      "execution_count": null,
      "outputs": [
        {
          "output_type": "stream",
          "name": "stderr",
          "text": [
            "WARNING:absl:Found untraced functions such as _update_step_xla while saving (showing 1 of 1). These functions will not be directly callable after loading.\n"
          ]
        }
      ]
    },
    {
      "cell_type": "code",
      "source": [
        "# Reloading the model\n",
        "new_model = tf.keras.models.load_model('./models/model1')\n",
        "\n",
        "# Verifying\n",
        "new_model.summary()\n",
        "\n",
        "loss, acc = new_model.evaluate(ds_test, verbose=2)\n",
        "print(\"Reloaded model, accuracy: {:5.2f}%\".format(100 * acc))"
      ],
      "metadata": {
        "colab": {
          "base_uri": "https://localhost:8080/"
        },
        "id": "N29r_0tM4Qqw",
        "outputId": "c68c4d4a-5895-4edf-f2b0-66ca9561571f"
      },
      "execution_count": null,
      "outputs": [
        {
          "output_type": "stream",
          "name": "stdout",
          "text": [
            "Model: \"sequential\"\n",
            "_________________________________________________________________\n",
            " Layer (type)                Output Shape              Param #   \n",
            "=================================================================\n",
            " flatten (Flatten)           (None, 784)               0         \n",
            "                                                                 \n",
            " dense (Dense)               (None, 128)               100480    \n",
            "                                                                 \n",
            " dense_1 (Dense)             (None, 10)                1290      \n",
            "                                                                 \n",
            "=================================================================\n",
            "Total params: 101,770\n",
            "Trainable params: 101,770\n",
            "Non-trainable params: 0\n",
            "_________________________________________________________________\n",
            "79/79 - 0s - loss: 0.0771 - sparse_categorical_accuracy: 0.9770 - 385ms/epoch - 5ms/step\n",
            "Reloaded model, accuracy: 97.70%\n"
          ]
        }
      ]
    },
    {
      "cell_type": "code",
      "source": [
        "# Testing model on image\n",
        "image = cv2.imread('./test_img.png')\n",
        "# Resizing image\n",
        "dim = (28, 28)\n",
        "image = cv2.resize(image, dim)\n",
        "# Changing color channels to rgb\n",
        "image = cv2.cvtColor(image, cv2.COLOR_BGR2RGB)\n",
        "# Normalize\n",
        "image = tf.cast(image, tf.float32) / 255.\n",
        "image = image[:, :, 0]\n",
        "plt.pyplot.imshow(image)\n",
        "image_data = np.array(image)\n",
        "\n",
        "tempimg = np.zeros((1, 28, 28))\n",
        "tempimg[0] = image\n",
        "image = tempimg\n",
        "\n",
        "print(new_model.predict(image))"
      ],
      "metadata": {
        "colab": {
          "base_uri": "https://localhost:8080/",
          "height": 482
        },
        "id": "WBw_k5Aa4wOb",
        "outputId": "d78ea1f1-ad5f-4cd6-b0b6-7166a8fda4b9"
      },
      "execution_count": null,
      "outputs": [
        {
          "output_type": "stream",
          "name": "stdout",
          "text": [
            "1/1 [==============================] - 0s 241ms/step\n",
            "[[-26.299393   -1.2915838  13.263046   10.007142  -36.381348   22.7725\n",
            "  -18.81718    12.468726   -5.5735073 -10.957035 ]]\n"
          ]
        },
        {
          "output_type": "display_data",
          "data": {
            "text/plain": [
              "<Figure size 640x480 with 1 Axes>"
            ],
            "image/png": "[encoded data removed]"
          },
          "metadata": {}
        }
      ]
    },
    {
      "cell_type": "code",
      "source": [
        "print(ds_test)"
      ],
      "metadata": {
        "colab": {
          "base_uri": "https://localhost:8080/"
        },
        "id": "4XhSuAzH5r5K",
        "outputId": "26a9c3cc-15be-41f1-f0c9-4e2afc9ab547"
      },
      "execution_count": null,
      "outputs": [
        {
          "output_type": "stream",
          "name": "stdout",
          "text": [
            "<_PrefetchDataset element_spec=(TensorSpec(shape=(None, 28, 28, 1), dtype=tf.float32, name=None), TensorSpec(shape=(None,), dtype=tf.int64, name=None))>\n"
          ]
        }
      ]
    },
    {
      "cell_type": "code",
      "source": [],
      "metadata": {
        "id": "QqX3V9ZC7Ah_"
      },
      "execution_count": null,
      "outputs": []
    }
  ]
}